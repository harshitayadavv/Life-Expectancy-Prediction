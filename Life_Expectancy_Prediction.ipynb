{
  "cells": [
    {
      "cell_type": "markdown",
      "metadata": {
        "id": "view-in-github",
        "colab_type": "text"
      },
      "source": [
        "<a href=\"https://colab.research.google.com/github/harshitayadavv/Life-Expectancy-Prediction/blob/main/Life_Expectancy_Prediction.ipynb\" target=\"_parent\"><img src=\"https://colab.research.google.com/assets/colab-badge.svg\" alt=\"Open In Colab\"/></a>"
      ]
    },
    {
      "cell_type": "markdown",
      "id": "376b05a3-3413-4dd9-826b-85fb794ddb33",
      "metadata": {
        "id": "376b05a3-3413-4dd9-826b-85fb794ddb33"
      },
      "source": [
        "## Data preprocessing\n"
      ]
    },
    {
      "cell_type": "markdown",
      "id": "cb480dc3-a8f5-445e-a608-7b39b5280137",
      "metadata": {
        "id": "cb480dc3-a8f5-445e-a608-7b39b5280137"
      },
      "source": [
        "#### Importing the libraries"
      ]
    },
    {
      "cell_type": "code",
      "execution_count": 1,
      "id": "ce9cc3a8-e13d-44ed-8266-3f2d1e3073e3",
      "metadata": {
        "id": "ce9cc3a8-e13d-44ed-8266-3f2d1e3073e3"
      },
      "outputs": [],
      "source": [
        "import numpy as np\n",
        "import pandas as pd\n",
        "import matplotlib.pyplot as plt\n",
        "import seaborn as sns"
      ]
    },
    {
      "cell_type": "markdown",
      "id": "7b765951-9085-49c6-88d3-6277913a6099",
      "metadata": {
        "id": "7b765951-9085-49c6-88d3-6277913a6099"
      },
      "source": [
        "#### Importing the dataset"
      ]
    },
    {
      "cell_type": "code",
      "execution_count": 3,
      "id": "ab43bb35-0314-4ad8-acaa-b55cdbeae597",
      "metadata": {
        "colab": {
          "base_uri": "https://localhost:8080/",
          "height": 307
        },
        "id": "ab43bb35-0314-4ad8-acaa-b55cdbeae597",
        "outputId": "1b8f5d67-5938-462e-e73c-4df7f4a41434"
      },
      "outputs": [
        {
          "output_type": "execute_result",
          "data": {
            "text/plain": [
              "       Country  Year      Status  Life expectancy  Adult Mortality  \\\n",
              "0  Afghanistan  2015  Developing             65.0            263.0   \n",
              "1  Afghanistan  2014  Developing             59.9            271.0   \n",
              "2  Afghanistan  2013  Developing             59.9            268.0   \n",
              "3  Afghanistan  2012  Developing             59.5            272.0   \n",
              "4  Afghanistan  2011  Developing             59.2            275.0   \n",
              "\n",
              "   infant deaths  Alcohol  percentage expenditure  Hepatitis B  Measles  ...  \\\n",
              "0             62     0.01               71.279624         65.0     1154  ...   \n",
              "1             64     0.01               73.523582         62.0      492  ...   \n",
              "2             66     0.01               73.219243         64.0      430  ...   \n",
              "3             69     0.01               78.184215         67.0     2787  ...   \n",
              "4             71     0.01                7.097109         68.0     3013  ...   \n",
              "\n",
              "   Polio  Total expenditure  Diphtheria  HIV/AIDS         GDP  Population  \\\n",
              "0    6.0               8.16        65.0       0.1  584.259210  33736494.0   \n",
              "1   58.0               8.18        62.0       0.1  612.696514    327582.0   \n",
              "2   62.0               8.13        64.0       0.1  631.744976  31731688.0   \n",
              "3   67.0               8.52        67.0       0.1  669.959000   3696958.0   \n",
              "4   68.0               7.87        68.0       0.1   63.537231   2978599.0   \n",
              "\n",
              "   thinness  1-19 years  thinness 5-9 years  Income composition of resources  \\\n",
              "0                  17.2                17.3                            0.479   \n",
              "1                  17.5                17.5                            0.476   \n",
              "2                  17.7                17.7                            0.470   \n",
              "3                  17.9                18.0                            0.463   \n",
              "4                  18.2                18.2                            0.454   \n",
              "\n",
              "   Schooling  \n",
              "0       10.1  \n",
              "1       10.0  \n",
              "2        9.9  \n",
              "3        9.8  \n",
              "4        9.5  \n",
              "\n",
              "[5 rows x 22 columns]"
            ],
            "text/html": [
              "\n",
              "  <div id=\"df-09df71a1-2cec-4690-8f2c-0ec08e8ee435\" class=\"colab-df-container\">\n",
              "    <div>\n",
              "<style scoped>\n",
              "    .dataframe tbody tr th:only-of-type {\n",
              "        vertical-align: middle;\n",
              "    }\n",
              "\n",
              "    .dataframe tbody tr th {\n",
              "        vertical-align: top;\n",
              "    }\n",
              "\n",
              "    .dataframe thead th {\n",
              "        text-align: right;\n",
              "    }\n",
              "</style>\n",
              "<table border=\"1\" class=\"dataframe\">\n",
              "  <thead>\n",
              "    <tr style=\"text-align: right;\">\n",
              "      <th></th>\n",
              "      <th>Country</th>\n",
              "      <th>Year</th>\n",
              "      <th>Status</th>\n",
              "      <th>Life expectancy</th>\n",
              "      <th>Adult Mortality</th>\n",
              "      <th>infant deaths</th>\n",
              "      <th>Alcohol</th>\n",
              "      <th>percentage expenditure</th>\n",
              "      <th>Hepatitis B</th>\n",
              "      <th>Measles</th>\n",
              "      <th>...</th>\n",
              "      <th>Polio</th>\n",
              "      <th>Total expenditure</th>\n",
              "      <th>Diphtheria</th>\n",
              "      <th>HIV/AIDS</th>\n",
              "      <th>GDP</th>\n",
              "      <th>Population</th>\n",
              "      <th>thinness  1-19 years</th>\n",
              "      <th>thinness 5-9 years</th>\n",
              "      <th>Income composition of resources</th>\n",
              "      <th>Schooling</th>\n",
              "    </tr>\n",
              "  </thead>\n",
              "  <tbody>\n",
              "    <tr>\n",
              "      <th>0</th>\n",
              "      <td>Afghanistan</td>\n",
              "      <td>2015</td>\n",
              "      <td>Developing</td>\n",
              "      <td>65.0</td>\n",
              "      <td>263.0</td>\n",
              "      <td>62</td>\n",
              "      <td>0.01</td>\n",
              "      <td>71.279624</td>\n",
              "      <td>65.0</td>\n",
              "      <td>1154</td>\n",
              "      <td>...</td>\n",
              "      <td>6.0</td>\n",
              "      <td>8.16</td>\n",
              "      <td>65.0</td>\n",
              "      <td>0.1</td>\n",
              "      <td>584.259210</td>\n",
              "      <td>33736494.0</td>\n",
              "      <td>17.2</td>\n",
              "      <td>17.3</td>\n",
              "      <td>0.479</td>\n",
              "      <td>10.1</td>\n",
              "    </tr>\n",
              "    <tr>\n",
              "      <th>1</th>\n",
              "      <td>Afghanistan</td>\n",
              "      <td>2014</td>\n",
              "      <td>Developing</td>\n",
              "      <td>59.9</td>\n",
              "      <td>271.0</td>\n",
              "      <td>64</td>\n",
              "      <td>0.01</td>\n",
              "      <td>73.523582</td>\n",
              "      <td>62.0</td>\n",
              "      <td>492</td>\n",
              "      <td>...</td>\n",
              "      <td>58.0</td>\n",
              "      <td>8.18</td>\n",
              "      <td>62.0</td>\n",
              "      <td>0.1</td>\n",
              "      <td>612.696514</td>\n",
              "      <td>327582.0</td>\n",
              "      <td>17.5</td>\n",
              "      <td>17.5</td>\n",
              "      <td>0.476</td>\n",
              "      <td>10.0</td>\n",
              "    </tr>\n",
              "    <tr>\n",
              "      <th>2</th>\n",
              "      <td>Afghanistan</td>\n",
              "      <td>2013</td>\n",
              "      <td>Developing</td>\n",
              "      <td>59.9</td>\n",
              "      <td>268.0</td>\n",
              "      <td>66</td>\n",
              "      <td>0.01</td>\n",
              "      <td>73.219243</td>\n",
              "      <td>64.0</td>\n",
              "      <td>430</td>\n",
              "      <td>...</td>\n",
              "      <td>62.0</td>\n",
              "      <td>8.13</td>\n",
              "      <td>64.0</td>\n",
              "      <td>0.1</td>\n",
              "      <td>631.744976</td>\n",
              "      <td>31731688.0</td>\n",
              "      <td>17.7</td>\n",
              "      <td>17.7</td>\n",
              "      <td>0.470</td>\n",
              "      <td>9.9</td>\n",
              "    </tr>\n",
              "    <tr>\n",
              "      <th>3</th>\n",
              "      <td>Afghanistan</td>\n",
              "      <td>2012</td>\n",
              "      <td>Developing</td>\n",
              "      <td>59.5</td>\n",
              "      <td>272.0</td>\n",
              "      <td>69</td>\n",
              "      <td>0.01</td>\n",
              "      <td>78.184215</td>\n",
              "      <td>67.0</td>\n",
              "      <td>2787</td>\n",
              "      <td>...</td>\n",
              "      <td>67.0</td>\n",
              "      <td>8.52</td>\n",
              "      <td>67.0</td>\n",
              "      <td>0.1</td>\n",
              "      <td>669.959000</td>\n",
              "      <td>3696958.0</td>\n",
              "      <td>17.9</td>\n",
              "      <td>18.0</td>\n",
              "      <td>0.463</td>\n",
              "      <td>9.8</td>\n",
              "    </tr>\n",
              "    <tr>\n",
              "      <th>4</th>\n",
              "      <td>Afghanistan</td>\n",
              "      <td>2011</td>\n",
              "      <td>Developing</td>\n",
              "      <td>59.2</td>\n",
              "      <td>275.0</td>\n",
              "      <td>71</td>\n",
              "      <td>0.01</td>\n",
              "      <td>7.097109</td>\n",
              "      <td>68.0</td>\n",
              "      <td>3013</td>\n",
              "      <td>...</td>\n",
              "      <td>68.0</td>\n",
              "      <td>7.87</td>\n",
              "      <td>68.0</td>\n",
              "      <td>0.1</td>\n",
              "      <td>63.537231</td>\n",
              "      <td>2978599.0</td>\n",
              "      <td>18.2</td>\n",
              "      <td>18.2</td>\n",
              "      <td>0.454</td>\n",
              "      <td>9.5</td>\n",
              "    </tr>\n",
              "  </tbody>\n",
              "</table>\n",
              "<p>5 rows × 22 columns</p>\n",
              "</div>\n",
              "    <div class=\"colab-df-buttons\">\n",
              "\n",
              "  <div class=\"colab-df-container\">\n",
              "    <button class=\"colab-df-convert\" onclick=\"convertToInteractive('df-09df71a1-2cec-4690-8f2c-0ec08e8ee435')\"\n",
              "            title=\"Convert this dataframe to an interactive table.\"\n",
              "            style=\"display:none;\">\n",
              "\n",
              "  <svg xmlns=\"http://www.w3.org/2000/svg\" height=\"24px\" viewBox=\"0 -960 960 960\">\n",
              "    <path d=\"M120-120v-720h720v720H120Zm60-500h600v-160H180v160Zm220 220h160v-160H400v160Zm0 220h160v-160H400v160ZM180-400h160v-160H180v160Zm440 0h160v-160H620v160ZM180-180h160v-160H180v160Zm440 0h160v-160H620v160Z\"/>\n",
              "  </svg>\n",
              "    </button>\n",
              "\n",
              "  <style>\n",
              "    .colab-df-container {\n",
              "      display:flex;\n",
              "      gap: 12px;\n",
              "    }\n",
              "\n",
              "    .colab-df-convert {\n",
              "      background-color: #E8F0FE;\n",
              "      border: none;\n",
              "      border-radius: 50%;\n",
              "      cursor: pointer;\n",
              "      display: none;\n",
              "      fill: #1967D2;\n",
              "      height: 32px;\n",
              "      padding: 0 0 0 0;\n",
              "      width: 32px;\n",
              "    }\n",
              "\n",
              "    .colab-df-convert:hover {\n",
              "      background-color: #E2EBFA;\n",
              "      box-shadow: 0px 1px 2px rgba(60, 64, 67, 0.3), 0px 1px 3px 1px rgba(60, 64, 67, 0.15);\n",
              "      fill: #174EA6;\n",
              "    }\n",
              "\n",
              "    .colab-df-buttons div {\n",
              "      margin-bottom: 4px;\n",
              "    }\n",
              "\n",
              "    [theme=dark] .colab-df-convert {\n",
              "      background-color: #3B4455;\n",
              "      fill: #D2E3FC;\n",
              "    }\n",
              "\n",
              "    [theme=dark] .colab-df-convert:hover {\n",
              "      background-color: #434B5C;\n",
              "      box-shadow: 0px 1px 3px 1px rgba(0, 0, 0, 0.15);\n",
              "      filter: drop-shadow(0px 1px 2px rgba(0, 0, 0, 0.3));\n",
              "      fill: #FFFFFF;\n",
              "    }\n",
              "  </style>\n",
              "\n",
              "    <script>\n",
              "      const buttonEl =\n",
              "        document.querySelector('#df-09df71a1-2cec-4690-8f2c-0ec08e8ee435 button.colab-df-convert');\n",
              "      buttonEl.style.display =\n",
              "        google.colab.kernel.accessAllowed ? 'block' : 'none';\n",
              "\n",
              "      async function convertToInteractive(key) {\n",
              "        const element = document.querySelector('#df-09df71a1-2cec-4690-8f2c-0ec08e8ee435');\n",
              "        const dataTable =\n",
              "          await google.colab.kernel.invokeFunction('convertToInteractive',\n",
              "                                                    [key], {});\n",
              "        if (!dataTable) return;\n",
              "\n",
              "        const docLinkHtml = 'Like what you see? Visit the ' +\n",
              "          '<a target=\"_blank\" href=https://colab.research.google.com/notebooks/data_table.ipynb>data table notebook</a>'\n",
              "          + ' to learn more about interactive tables.';\n",
              "        element.innerHTML = '';\n",
              "        dataTable['output_type'] = 'display_data';\n",
              "        await google.colab.output.renderOutput(dataTable, element);\n",
              "        const docLink = document.createElement('div');\n",
              "        docLink.innerHTML = docLinkHtml;\n",
              "        element.appendChild(docLink);\n",
              "      }\n",
              "    </script>\n",
              "  </div>\n",
              "\n",
              "\n",
              "<div id=\"df-5f352b7e-780e-4dee-9d23-00f54b3b1147\">\n",
              "  <button class=\"colab-df-quickchart\" onclick=\"quickchart('df-5f352b7e-780e-4dee-9d23-00f54b3b1147')\"\n",
              "            title=\"Suggest charts\"\n",
              "            style=\"display:none;\">\n",
              "\n",
              "<svg xmlns=\"http://www.w3.org/2000/svg\" height=\"24px\"viewBox=\"0 0 24 24\"\n",
              "     width=\"24px\">\n",
              "    <g>\n",
              "        <path d=\"M19 3H5c-1.1 0-2 .9-2 2v14c0 1.1.9 2 2 2h14c1.1 0 2-.9 2-2V5c0-1.1-.9-2-2-2zM9 17H7v-7h2v7zm4 0h-2V7h2v10zm4 0h-2v-4h2v4z\"/>\n",
              "    </g>\n",
              "</svg>\n",
              "  </button>\n",
              "\n",
              "<style>\n",
              "  .colab-df-quickchart {\n",
              "      --bg-color: #E8F0FE;\n",
              "      --fill-color: #1967D2;\n",
              "      --hover-bg-color: #E2EBFA;\n",
              "      --hover-fill-color: #174EA6;\n",
              "      --disabled-fill-color: #AAA;\n",
              "      --disabled-bg-color: #DDD;\n",
              "  }\n",
              "\n",
              "  [theme=dark] .colab-df-quickchart {\n",
              "      --bg-color: #3B4455;\n",
              "      --fill-color: #D2E3FC;\n",
              "      --hover-bg-color: #434B5C;\n",
              "      --hover-fill-color: #FFFFFF;\n",
              "      --disabled-bg-color: #3B4455;\n",
              "      --disabled-fill-color: #666;\n",
              "  }\n",
              "\n",
              "  .colab-df-quickchart {\n",
              "    background-color: var(--bg-color);\n",
              "    border: none;\n",
              "    border-radius: 50%;\n",
              "    cursor: pointer;\n",
              "    display: none;\n",
              "    fill: var(--fill-color);\n",
              "    height: 32px;\n",
              "    padding: 0;\n",
              "    width: 32px;\n",
              "  }\n",
              "\n",
              "  .colab-df-quickchart:hover {\n",
              "    background-color: var(--hover-bg-color);\n",
              "    box-shadow: 0 1px 2px rgba(60, 64, 67, 0.3), 0 1px 3px 1px rgba(60, 64, 67, 0.15);\n",
              "    fill: var(--button-hover-fill-color);\n",
              "  }\n",
              "\n",
              "  .colab-df-quickchart-complete:disabled,\n",
              "  .colab-df-quickchart-complete:disabled:hover {\n",
              "    background-color: var(--disabled-bg-color);\n",
              "    fill: var(--disabled-fill-color);\n",
              "    box-shadow: none;\n",
              "  }\n",
              "\n",
              "  .colab-df-spinner {\n",
              "    border: 2px solid var(--fill-color);\n",
              "    border-color: transparent;\n",
              "    border-bottom-color: var(--fill-color);\n",
              "    animation:\n",
              "      spin 1s steps(1) infinite;\n",
              "  }\n",
              "\n",
              "  @keyframes spin {\n",
              "    0% {\n",
              "      border-color: transparent;\n",
              "      border-bottom-color: var(--fill-color);\n",
              "      border-left-color: var(--fill-color);\n",
              "    }\n",
              "    20% {\n",
              "      border-color: transparent;\n",
              "      border-left-color: var(--fill-color);\n",
              "      border-top-color: var(--fill-color);\n",
              "    }\n",
              "    30% {\n",
              "      border-color: transparent;\n",
              "      border-left-color: var(--fill-color);\n",
              "      border-top-color: var(--fill-color);\n",
              "      border-right-color: var(--fill-color);\n",
              "    }\n",
              "    40% {\n",
              "      border-color: transparent;\n",
              "      border-right-color: var(--fill-color);\n",
              "      border-top-color: var(--fill-color);\n",
              "    }\n",
              "    60% {\n",
              "      border-color: transparent;\n",
              "      border-right-color: var(--fill-color);\n",
              "    }\n",
              "    80% {\n",
              "      border-color: transparent;\n",
              "      border-right-color: var(--fill-color);\n",
              "      border-bottom-color: var(--fill-color);\n",
              "    }\n",
              "    90% {\n",
              "      border-color: transparent;\n",
              "      border-bottom-color: var(--fill-color);\n",
              "    }\n",
              "  }\n",
              "</style>\n",
              "\n",
              "  <script>\n",
              "    async function quickchart(key) {\n",
              "      const quickchartButtonEl =\n",
              "        document.querySelector('#' + key + ' button');\n",
              "      quickchartButtonEl.disabled = true;  // To prevent multiple clicks.\n",
              "      quickchartButtonEl.classList.add('colab-df-spinner');\n",
              "      try {\n",
              "        const charts = await google.colab.kernel.invokeFunction(\n",
              "            'suggestCharts', [key], {});\n",
              "      } catch (error) {\n",
              "        console.error('Error during call to suggestCharts:', error);\n",
              "      }\n",
              "      quickchartButtonEl.classList.remove('colab-df-spinner');\n",
              "      quickchartButtonEl.classList.add('colab-df-quickchart-complete');\n",
              "    }\n",
              "    (() => {\n",
              "      let quickchartButtonEl =\n",
              "        document.querySelector('#df-5f352b7e-780e-4dee-9d23-00f54b3b1147 button');\n",
              "      quickchartButtonEl.style.display =\n",
              "        google.colab.kernel.accessAllowed ? 'block' : 'none';\n",
              "    })();\n",
              "  </script>\n",
              "</div>\n",
              "\n",
              "    </div>\n",
              "  </div>\n"
            ],
            "application/vnd.google.colaboratory.intrinsic+json": {
              "type": "dataframe",
              "variable_name": "df"
            }
          },
          "metadata": {},
          "execution_count": 3
        }
      ],
      "source": [
        "df = pd.read_csv(\"Life Expectancy Data.csv\")\n",
        "df.columns = df.columns.str.strip()\n",
        "X = df.drop('Life expectancy', axis=1)\n",
        "y = df['Life expectancy']\n",
        "df.head()"
      ]
    },
    {
      "cell_type": "markdown",
      "id": "7eaf9898-ee13-42a4-b612-dc80c9c28a04",
      "metadata": {
        "id": "7eaf9898-ee13-42a4-b612-dc80c9c28a04"
      },
      "source": [
        "#### Dropping irrelevant columns"
      ]
    },
    {
      "cell_type": "code",
      "execution_count": 4,
      "id": "5b6d957d-c6a7-42f7-9a5f-ac403af5e60a",
      "metadata": {
        "id": "5b6d957d-c6a7-42f7-9a5f-ac403af5e60a"
      },
      "outputs": [],
      "source": [
        "df.drop('Country', axis=1, inplace=True)  # Country is not useful for regression"
      ]
    },
    {
      "cell_type": "markdown",
      "id": "788daa83-f60a-4130-8ee2-ea990ca077e9",
      "metadata": {
        "id": "788daa83-f60a-4130-8ee2-ea990ca077e9"
      },
      "source": [
        "#### Missing values"
      ]
    },
    {
      "cell_type": "code",
      "execution_count": 5,
      "id": "8b96557e-9580-4010-a567-d431aa1d2b4f",
      "metadata": {
        "colab": {
          "base_uri": "https://localhost:8080/"
        },
        "id": "8b96557e-9580-4010-a567-d431aa1d2b4f",
        "outputId": "060729a0-f5a7-42d6-8e06-04cdd0544a55"
      },
      "outputs": [
        {
          "output_type": "execute_result",
          "data": {
            "text/plain": [
              "np.True_"
            ]
          },
          "metadata": {},
          "execution_count": 5
        }
      ],
      "source": [
        "df.isnull().values.any()\n"
      ]
    },
    {
      "cell_type": "code",
      "execution_count": 6,
      "id": "cfa9d040-f8e4-46ce-82da-5b43f46eaef7",
      "metadata": {
        "scrolled": true,
        "colab": {
          "base_uri": "https://localhost:8080/",
          "height": 742
        },
        "id": "cfa9d040-f8e4-46ce-82da-5b43f46eaef7",
        "outputId": "aaa9a6bc-2ec9-4934-c674-1531f82cf43c"
      },
      "outputs": [
        {
          "output_type": "execute_result",
          "data": {
            "text/plain": [
              "Year                                 0\n",
              "Status                               0\n",
              "Life expectancy                     10\n",
              "Adult Mortality                     10\n",
              "infant deaths                        0\n",
              "Alcohol                            194\n",
              "percentage expenditure               0\n",
              "Hepatitis B                        553\n",
              "Measles                              0\n",
              "BMI                                 34\n",
              "under-five deaths                    0\n",
              "Polio                               19\n",
              "Total expenditure                  226\n",
              "Diphtheria                          19\n",
              "HIV/AIDS                             0\n",
              "GDP                                448\n",
              "Population                         652\n",
              "thinness  1-19 years                34\n",
              "thinness 5-9 years                  34\n",
              "Income composition of resources    167\n",
              "Schooling                          163\n",
              "dtype: int64"
            ],
            "text/html": [
              "<div>\n",
              "<style scoped>\n",
              "    .dataframe tbody tr th:only-of-type {\n",
              "        vertical-align: middle;\n",
              "    }\n",
              "\n",
              "    .dataframe tbody tr th {\n",
              "        vertical-align: top;\n",
              "    }\n",
              "\n",
              "    .dataframe thead th {\n",
              "        text-align: right;\n",
              "    }\n",
              "</style>\n",
              "<table border=\"1\" class=\"dataframe\">\n",
              "  <thead>\n",
              "    <tr style=\"text-align: right;\">\n",
              "      <th></th>\n",
              "      <th>0</th>\n",
              "    </tr>\n",
              "  </thead>\n",
              "  <tbody>\n",
              "    <tr>\n",
              "      <th>Year</th>\n",
              "      <td>0</td>\n",
              "    </tr>\n",
              "    <tr>\n",
              "      <th>Status</th>\n",
              "      <td>0</td>\n",
              "    </tr>\n",
              "    <tr>\n",
              "      <th>Life expectancy</th>\n",
              "      <td>10</td>\n",
              "    </tr>\n",
              "    <tr>\n",
              "      <th>Adult Mortality</th>\n",
              "      <td>10</td>\n",
              "    </tr>\n",
              "    <tr>\n",
              "      <th>infant deaths</th>\n",
              "      <td>0</td>\n",
              "    </tr>\n",
              "    <tr>\n",
              "      <th>Alcohol</th>\n",
              "      <td>194</td>\n",
              "    </tr>\n",
              "    <tr>\n",
              "      <th>percentage expenditure</th>\n",
              "      <td>0</td>\n",
              "    </tr>\n",
              "    <tr>\n",
              "      <th>Hepatitis B</th>\n",
              "      <td>553</td>\n",
              "    </tr>\n",
              "    <tr>\n",
              "      <th>Measles</th>\n",
              "      <td>0</td>\n",
              "    </tr>\n",
              "    <tr>\n",
              "      <th>BMI</th>\n",
              "      <td>34</td>\n",
              "    </tr>\n",
              "    <tr>\n",
              "      <th>under-five deaths</th>\n",
              "      <td>0</td>\n",
              "    </tr>\n",
              "    <tr>\n",
              "      <th>Polio</th>\n",
              "      <td>19</td>\n",
              "    </tr>\n",
              "    <tr>\n",
              "      <th>Total expenditure</th>\n",
              "      <td>226</td>\n",
              "    </tr>\n",
              "    <tr>\n",
              "      <th>Diphtheria</th>\n",
              "      <td>19</td>\n",
              "    </tr>\n",
              "    <tr>\n",
              "      <th>HIV/AIDS</th>\n",
              "      <td>0</td>\n",
              "    </tr>\n",
              "    <tr>\n",
              "      <th>GDP</th>\n",
              "      <td>448</td>\n",
              "    </tr>\n",
              "    <tr>\n",
              "      <th>Population</th>\n",
              "      <td>652</td>\n",
              "    </tr>\n",
              "    <tr>\n",
              "      <th>thinness  1-19 years</th>\n",
              "      <td>34</td>\n",
              "    </tr>\n",
              "    <tr>\n",
              "      <th>thinness 5-9 years</th>\n",
              "      <td>34</td>\n",
              "    </tr>\n",
              "    <tr>\n",
              "      <th>Income composition of resources</th>\n",
              "      <td>167</td>\n",
              "    </tr>\n",
              "    <tr>\n",
              "      <th>Schooling</th>\n",
              "      <td>163</td>\n",
              "    </tr>\n",
              "  </tbody>\n",
              "</table>\n",
              "</div><br><label><b>dtype:</b> int64</label>"
            ]
          },
          "metadata": {},
          "execution_count": 6
        }
      ],
      "source": [
        "df.columns = df.columns.str.strip()\n",
        "df.isnull().sum()\n"
      ]
    },
    {
      "cell_type": "code",
      "execution_count": 7,
      "id": "fb458b8b-527d-4e89-8330-aa02820cc71d",
      "metadata": {
        "id": "fb458b8b-527d-4e89-8330-aa02820cc71d"
      },
      "outputs": [],
      "source": [
        "numerical_cols = ['Year', 'Life expectancy', 'Adult Mortality', 'infant deaths',\n",
        "                  'Alcohol', 'percentage expenditure', 'Hepatitis B', 'Measles',\n",
        "                  'BMI', 'under-five deaths', 'Polio', 'Total expenditure',\n",
        "                  'Diphtheria', 'HIV/AIDS', 'GDP', 'Population',\n",
        "                  'thinness  1-19 years', 'thinness 5-9 years',\n",
        "                  'Income composition of resources', 'Schooling']\n",
        "\n",
        "from sklearn.impute import SimpleImputer\n",
        "imputer = SimpleImputer(strategy='mean')\n",
        "df[numerical_cols] = imputer.fit_transform(df[numerical_cols])\n",
        "df.dropna(inplace=True)\n",
        "\n"
      ]
    },
    {
      "cell_type": "code",
      "execution_count": 8,
      "id": "17bd4feb-f15b-4f5b-8089-eb8887ed309b",
      "metadata": {
        "colab": {
          "base_uri": "https://localhost:8080/"
        },
        "id": "17bd4feb-f15b-4f5b-8089-eb8887ed309b",
        "outputId": "66dc87a5-5f52-4b7e-cb3f-cfcb25f9007e"
      },
      "outputs": [
        {
          "output_type": "execute_result",
          "data": {
            "text/plain": [
              "np.False_"
            ]
          },
          "metadata": {},
          "execution_count": 8
        }
      ],
      "source": [
        "df.isnull().values.any()\n"
      ]
    },
    {
      "cell_type": "markdown",
      "id": "0cb37c87-c59c-45de-82f7-c0d842a05da0",
      "metadata": {
        "id": "0cb37c87-c59c-45de-82f7-c0d842a05da0"
      },
      "source": [
        "#### Encoding Categorical Data"
      ]
    },
    {
      "cell_type": "code",
      "execution_count": 9,
      "id": "86717cf4-7391-4b4d-98a5-fea25afd9b6b",
      "metadata": {
        "colab": {
          "base_uri": "https://localhost:8080/"
        },
        "id": "86717cf4-7391-4b4d-98a5-fea25afd9b6b",
        "outputId": "9d30eb7e-9c38-4ffd-f4f3-bf8242f009c2"
      },
      "outputs": [
        {
          "output_type": "stream",
          "name": "stdout",
          "text": [
            "[[0.000e+00 1.000e+00 2.015e+03 ... 1.730e+01 4.790e-01 1.010e+01]\n",
            " [0.000e+00 1.000e+00 2.014e+03 ... 1.750e+01 4.760e-01 1.000e+01]\n",
            " [0.000e+00 1.000e+00 2.013e+03 ... 1.770e+01 4.700e-01 9.900e+00]\n",
            " ...\n",
            " [0.000e+00 1.000e+00 2.002e+03 ... 1.300e+00 4.270e-01 1.000e+01]\n",
            " [0.000e+00 1.000e+00 2.001e+03 ... 1.700e+00 4.270e-01 9.800e+00]\n",
            " [0.000e+00 1.000e+00 2.000e+03 ... 1.120e+01 4.340e-01 9.800e+00]]\n"
          ]
        }
      ],
      "source": [
        "from sklearn.compose import ColumnTransformer\n",
        "from sklearn.preprocessing import OneHotEncoder\n",
        "\n",
        "X = df.drop('Life expectancy', axis=1)\n",
        "y = df['Life expectancy']\n",
        "\n",
        "ct = ColumnTransformer(\n",
        "    transformers=[\n",
        "        ('encoder', OneHotEncoder(), ['Status'])\n",
        "    ],\n",
        "    remainder='passthrough'\n",
        ")\n",
        "\n",
        "X = np.array(ct.fit_transform(X))\n",
        "print(X)"
      ]
    },
    {
      "cell_type": "markdown",
      "id": "ffd5a304-491b-4cd8-801d-21d0480346e1",
      "metadata": {
        "id": "ffd5a304-491b-4cd8-801d-21d0480346e1"
      },
      "source": [
        "#### Splitting the dataset into the training set and test set"
      ]
    },
    {
      "cell_type": "code",
      "execution_count": 10,
      "id": "75be4c3e-0b15-473b-bf31-a4ec6923ba08",
      "metadata": {
        "id": "75be4c3e-0b15-473b-bf31-a4ec6923ba08"
      },
      "outputs": [],
      "source": [
        "from sklearn.model_selection import train_test_split\n",
        "\n",
        "# Split the dataset: 80% training, 20% testing\n",
        "X_train, X_test, y_train, y_test = train_test_split(\n",
        "    X, y, test_size=0.2, random_state=1\n",
        ")\n"
      ]
    },
    {
      "cell_type": "markdown",
      "id": "1eb1080e-48dd-42e0-b99f-6c48ff890d49",
      "metadata": {
        "id": "1eb1080e-48dd-42e0-b99f-6c48ff890d49"
      },
      "source": [
        "#### Feature Scaling"
      ]
    },
    {
      "cell_type": "code",
      "execution_count": 11,
      "id": "73a8ae9f-09a8-4831-b388-ca50a7ab63ac",
      "metadata": {
        "id": "73a8ae9f-09a8-4831-b388-ca50a7ab63ac"
      },
      "outputs": [],
      "source": [
        "from sklearn.preprocessing import StandardScaler\n",
        "\n",
        "sc = StandardScaler()\n",
        "X_train = sc.fit_transform(X_train)\n",
        "X_test = sc.transform(X_test)"
      ]
    },
    {
      "cell_type": "markdown",
      "id": "9ab10746-4444-4e14-b1b0-5b2e80ad3974",
      "metadata": {
        "id": "9ab10746-4444-4e14-b1b0-5b2e80ad3974"
      },
      "source": [
        "## Building the model"
      ]
    },
    {
      "cell_type": "code",
      "execution_count": 12,
      "id": "9dbb4ef3-9d02-48e8-b1a8-965c5de6fb72",
      "metadata": {
        "colab": {
          "base_uri": "https://localhost:8080/"
        },
        "id": "9dbb4ef3-9d02-48e8-b1a8-965c5de6fb72",
        "outputId": "167b8f2e-79c8-4682-a307-6bd21b25a0a4"
      },
      "outputs": [
        {
          "output_type": "stream",
          "name": "stdout",
          "text": [
            "Random Forest R² Score: 0.9633\n"
          ]
        }
      ],
      "source": [
        "#random forest\n",
        "from sklearn.ensemble import RandomForestRegressor\n",
        "from sklearn.metrics import r2_score\n",
        "\n",
        "# Create and train the model\n",
        "rf_reg = RandomForestRegressor(n_estimators=100, random_state=1)\n",
        "rf_reg.fit(X_train, y_train)\n",
        "\n",
        "# Predict and evaluate\n",
        "y_pred_rf = rf_reg.predict(X_test)\n",
        "r2_rf = r2_score(y_test, y_pred_rf)\n",
        "\n",
        "print(f\"Random Forest R² Score: {r2_rf:.4f}\")\n"
      ]
    },
    {
      "cell_type": "markdown",
      "id": "345a77bc-315a-46ce-b509-cd9138158ace",
      "metadata": {
        "id": "345a77bc-315a-46ce-b509-cd9138158ace"
      },
      "source": [
        "## Visualization"
      ]
    },
    {
      "cell_type": "code",
      "execution_count": 13,
      "id": "cc4c79e2-0e68-434b-8bed-34a241a63dfd",
      "metadata": {
        "colab": {
          "base_uri": "https://localhost:8080/",
          "height": 410
        },
        "id": "cc4c79e2-0e68-434b-8bed-34a241a63dfd",
        "outputId": "165c8126-7adf-4440-92c7-273e3dc43b19"
      },
      "outputs": [
        {
          "output_type": "display_data",
          "data": {
            "text/plain": [
              "<Figure size 600x400 with 1 Axes>"
            ],
            "image/png": "[encoded data removed]"
          },
          "metadata": {}
        }
      ],
      "source": [
        "plt.figure(figsize=(6, 4))\n",
        "sns.scatterplot(x=y_test, y=y_pred_rf, color='blue', alpha=0.6)\n",
        "plt.xlabel('Actual Life Expectancy')\n",
        "plt.ylabel('Predicted Life Expectancy')\n",
        "plt.title('Actual vs Predicted (Random Forest)')\n",
        "plt.plot([y_test.min(), y_test.max()], [y_test.min(), y_test.max()], 'r--')  # reference line\n",
        "plt.grid(True)\n",
        "plt.show()"
      ]
    },
    {
      "cell_type": "code",
      "execution_count": 14,
      "id": "82c14a81-cfe7-4cb5-ac5a-b6f697910e24",
      "metadata": {
        "colab": {
          "base_uri": "https://localhost:8080/",
          "height": 410
        },
        "id": "82c14a81-cfe7-4cb5-ac5a-b6f697910e24",
        "outputId": "4d5a7c49-c910-4c22-f46a-9e9aeb9e42dc"
      },
      "outputs": [
        {
          "output_type": "display_data",
          "data": {
            "text/plain": [
              "<Figure size 600x400 with 1 Axes>"
            ],
            "image/png": "[encoded data removed]"
          },
          "metadata": {}
        }
      ],
      "source": [
        "# Residual plot\n",
        "residuals = y_test - y_pred_rf\n",
        "\n",
        "plt.figure(figsize=(6, 4))\n",
        "sns.histplot(residuals, kde=True, color='orange')\n",
        "plt.title('Residuals Distribution (Random Forest)')\n",
        "plt.xlabel('Prediction Error')\n",
        "plt.ylabel('Frequency')\n",
        "plt.grid(True)\n",
        "plt.show()\n"
      ]
    },
    {
      "cell_type": "markdown",
      "id": "b784263e-a04b-48aa-820b-848ad907adf0",
      "metadata": {
        "id": "b784263e-a04b-48aa-820b-848ad907adf0"
      },
      "source": [
        "### Predicting result"
      ]
    },
    {
      "cell_type": "code",
      "execution_count": 15,
      "id": "43bd84da-10fa-400a-8feb-746b700d267c",
      "metadata": {
        "colab": {
          "base_uri": "https://localhost:8080/"
        },
        "id": "43bd84da-10fa-400a-8feb-746b700d267c",
        "outputId": "7d737f3c-4f0a-495d-e213-8c9b29a3c460"
      },
      "outputs": [
        {
          "output_type": "stream",
          "name": "stdout",
          "text": [
            "   Actual  Predicted\n",
            "0    82.1  82.174000\n",
            "1    58.4  56.008000\n",
            "2    63.3  64.453000\n",
            "3    67.9  67.795000\n",
            "4    47.8  46.832000\n",
            "5    89.0  81.975000\n",
            "6    67.7  69.076997\n",
            "7    72.5  71.856000\n",
            "8    71.9  72.075000\n",
            "9    78.9  79.370000\n"
          ]
        }
      ],
      "source": [
        "results = pd.DataFrame({\n",
        "    'Actual': y_test[:10].values,\n",
        "    'Predicted': y_pred_rf[:10]\n",
        "})\n",
        "print(results)"
      ]
    },
    {
      "cell_type": "code",
      "execution_count": 16,
      "id": "87fc2056-a1e9-4c4c-84f9-489dea00f381",
      "metadata": {
        "colab": {
          "base_uri": "https://localhost:8080/"
        },
        "id": "87fc2056-a1e9-4c4c-84f9-489dea00f381",
        "outputId": "992397d7-a0fa-487d-85b1-4b6dc973f2c2"
      },
      "outputs": [
        {
          "output_type": "stream",
          "name": "stdout",
          "text": [
            "Predicted Life Expectancy: 55.98 years\n"
          ]
        }
      ],
      "source": [
        "custom_data = [[2020, 72.5, 180.0, 12, 4.2, 250.0, 88.0, 30.0, 23.5, 18,\n",
        "                94.0, 6.0, 90.0, 0.2, 1200.0, 7000000.0, 4.0, 3.5,\n",
        "                0.70, 13.0, 0.75]]\n",
        "\n",
        "custom_data_scaled = sc.transform(custom_data)\n",
        "predicted_value = rf_reg.predict(custom_data_scaled)\n",
        "print(f\"Predicted Life Expectancy: {predicted_value[0]:.2f} years\")\n"
      ]
    }
  ],
  "metadata": {
    "kernelspec": {
      "display_name": "Python 3 (ipykernel)",
      "language": "python",
      "name": "python3"
    },
    "language_info": {
      "codemirror_mode": {
        "name": "ipython",
        "version": 3
      },
      "file_extension": ".py",
      "mimetype": "text/x-python",
      "name": "python",
      "nbconvert_exporter": "python",
      "pygments_lexer": "ipython3",
      "version": "3.12.7"
    },
    "colab": {
      "provenance": [],
      "include_colab_link": true
    }
  },
  "nbformat": 4,
  "nbformat_minor": 5
}